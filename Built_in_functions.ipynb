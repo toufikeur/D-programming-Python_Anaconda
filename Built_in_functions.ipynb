{
 "cells": [
  {
   "cell_type": "code",
   "execution_count": null,
   "id": "b5441a9b-1921-475f-82e0-7df9f4c3640a",
   "metadata": {},
   "outputs": [
    {
     "name": "stdout",
     "output_type": "stream",
     "text": [
      "Welcome to Python 3.12's help utility! If this is your first time using\n",
      "Python, you should definitely check out the tutorial at\n",
      "https://docs.python.org/3.12/tutorial/.\n",
      "\n",
      "Enter the name of any module, keyword, or topic to get help on writing\n",
      "Python programs and using Python modules.  To get a list of available\n",
      "modules, keywords, symbols, or topics, enter \"modules\", \"keywords\",\n",
      "\"symbols\", or \"topics\".\n",
      "\n",
      "Each module also comes with a one-line summary of what it does; to list\n",
      "the modules whose name or summary contain a given string such as \"spam\",\n",
      "enter \"modules spam\".\n",
      "\n",
      "To quit this help utility and return to the interpreter,\n",
      "enter \"q\" or \"quit\".\n",
      "\n"
     ]
    },
    {
     "name": "stdin",
     "output_type": "stream",
     "text": [
      "help>  ok\n"
     ]
    },
    {
     "name": "stdout",
     "output_type": "stream",
     "text": [
      "No Python documentation found for 'ok'.\n",
      "Use help() to get the interactive help utility.\n",
      "Use help(str) for help on the str class.\n",
      "\n"
     ]
    },
    {
     "name": "stdin",
     "output_type": "stream",
     "text": [
      "help>  close\n"
     ]
    },
    {
     "name": "stdout",
     "output_type": "stream",
     "text": [
      "No Python documentation found for 'close'.\n",
      "Use help() to get the interactive help utility.\n",
      "Use help(str) for help on the str class.\n",
      "\n"
     ]
    },
    {
     "name": "stdin",
     "output_type": "stream",
     "text": [
      "help>  thanks\n"
     ]
    },
    {
     "name": "stdout",
     "output_type": "stream",
     "text": [
      "No Python documentation found for 'thanks'.\n",
      "Use help() to get the interactive help utility.\n",
      "Use help(str) for help on the str class.\n",
      "\n"
     ]
    }
   ],
   "source": [
    "help()"
   ]
  },
  {
   "cell_type": "code",
   "execution_count": 5,
   "id": "bb1483ed-899f-4f08-9385-d3009cd44827",
   "metadata": {},
   "outputs": [
    {
     "ename": "ModuleNotFoundError",
     "evalue": "No module named 'ridoy'",
     "output_type": "error",
     "traceback": [
      "\u001b[1;31m---------------------------------------------------------------------------\u001b[0m",
      "\u001b[1;31mModuleNotFoundError\u001b[0m                       Traceback (most recent call last)",
      "Cell \u001b[1;32mIn[5], line 1\u001b[0m\n\u001b[1;32m----> 1\u001b[0m \u001b[38;5;28;01mimport\u001b[39;00m \u001b[38;5;21;01mridoy\u001b[39;00m \u001b[38;5;28;01mas\u001b[39;00m \u001b[38;5;21;01mtur\u001b[39;00m\n\u001b[0;32m      2\u001b[0m help(tur)\n",
      "\u001b[1;31mModuleNotFoundError\u001b[0m: No module named 'ridoy'"
     ]
    }
   ],
   "source": [
    "import ridoy as tur\n",
    "help(tur)"
   ]
  },
  {
   "cell_type": "code",
   "execution_count": 3,
   "id": "b055f4ad-4638-463a-bf7c-608d09c27f39",
   "metadata": {},
   "outputs": [
    {
     "name": "stderr",
     "output_type": "stream",
     "text": [
      "IOPub data rate exceeded.\n",
      "The Jupyter server will temporarily stop sending output\n",
      "to the client in order to avoid crashing it.\n",
      "To change this limit, set the config variable\n",
      "`--ServerApp.iopub_data_rate_limit`.\n",
      "\n",
      "Current values:\n",
      "ServerApp.iopub_data_rate_limit=1000000.0 (bytes/sec)\n",
      "ServerApp.rate_limit_window=3.0 (secs)\n",
      "\n"
     ]
    }
   ],
   "source": [
    "import pandas as pd\n",
    "help(pd)"
   ]
  },
  {
   "cell_type": "code",
   "execution_count": null,
   "id": "4d26fa4c-972a-46eb-bb77-ff2695fe3ca1",
   "metadata": {},
   "outputs": [],
   "source": [
    "num = int(input('Enter a number'))"
   ]
  },
  {
   "cell_type": "code",
   "execution_count": 1,
   "id": "1c92c70d-efe6-4f65-9abf-5f0f1f32659e",
   "metadata": {},
   "outputs": [
    {
     "name": "stdout",
     "output_type": "stream",
     "text": [
      "Hello\n"
     ]
    }
   ],
   "source": [
    "print('Hello')"
   ]
  },
  {
   "cell_type": "code",
   "execution_count": 7,
   "id": "555607c6-d192-4260-b2a1-61dbdae59a4a",
   "metadata": {},
   "outputs": [
    {
     "name": "stdout",
     "output_type": "stream",
     "text": [
      "1633184306672\n",
      "1633166831504\n",
      "1633183414992\n"
     ]
    }
   ],
   "source": [
    "print(id('Hello, Python!'))\n",
    "print(id(3.14))\n",
    "print(id(1729))"
   ]
  },
  {
   "cell_type": "code",
   "execution_count": 9,
   "id": "3e0ae6ca-7df5-4df3-a197-00794ca24c35",
   "metadata": {},
   "outputs": [
    {
     "name": "stdin",
     "output_type": "stream",
     "text": [
      "Enter a number:  5\n"
     ]
    },
    {
     "name": "stdout",
     "output_type": "stream",
     "text": [
      "The entered number is 5.\n",
      "25\n"
     ]
    }
   ],
   "source": [
    "num = int(input('Enter a number: '))\n",
    "print(f'The entered number is {num}.')\n",
    "print(eval('num*num'))"
   ]
  },
  {
   "cell_type": "code",
   "execution_count": 11,
   "id": "3750055b-ea11-4822-87aa-2b4172e6da41",
   "metadata": {},
   "outputs": [
    {
     "name": "stdout",
     "output_type": "stream",
     "text": [
      "[1.0, 1.0, 1.0, 1.0, 1.0, 1.0, 1.0]\n"
     ]
    }
   ],
   "source": [
    "special_nums = [0.577, 1.618, 2.718, 3.14, 28, 37, 1729]\n",
    "def division(number):\n",
    " return number/number\n",
    "division_number_iterator = map(division, special_nums)\n",
    "divided_nums = list(division_number_iterator)\n",
    "print(divided_nums)"
   ]
  },
  {
   "cell_type": "code",
   "execution_count": 1,
   "id": "5f04c308-01ff-4edb-bb25-3e7088f03c23",
   "metadata": {},
   "outputs": [
    {
     "ename": "SyntaxError",
     "evalue": "invalid syntax (2442398783.py, line 1)",
     "output_type": "error",
     "traceback": [
      "\u001b[1;36m  Cell \u001b[1;32mIn[1], line 1\u001b[1;36m\u001b[0m\n\u001b[1;33m    is True ?\u001b[0m\n\u001b[1;37m    ^\u001b[0m\n\u001b[1;31mSyntaxError\u001b[0m\u001b[1;31m:\u001b[0m invalid syntax\n"
     ]
    }
   ],
   "source": [
    "is True ?"
   ]
  },
  {
   "cell_type": "code",
   "execution_count": 3,
   "id": "3c238c9b-2091-40b4-9532-73e55aa703e8",
   "metadata": {},
   "outputs": [
    {
     "data": {
      "text/plain": [
       "{'__name__': '__main__',\n",
       " '__doc__': 'Automatically created module for IPython interactive environment',\n",
       " '__package__': None,\n",
       " '__loader__': None,\n",
       " '__spec__': None,\n",
       " '__builtin__': <module 'builtins' (built-in)>,\n",
       " '__builtins__': <module 'builtins' (built-in)>,\n",
       " '_ih': ['',\n",
       "  'is True ?',\n",
       "  'import json\\nimport getpass\\nimport hashlib\\n\\ndef import_pandas_safely():\\n    try:\\n        return __import__(\\'pandas\\')\\n    except ImportError:\\n        return False\\n\\n\\n__pandas = import_pandas_safely()\\n\\n\\ndef is_data_frame(v: str):\\n    obj = eval(v)\\n    if  isinstance(obj, __pandas.core.frame.DataFrame) or isinstance(obj, __pandas.core.series.Series):\\n        return True\\n\\n\\ndef dataframe_columns(var):\\n    df = eval(var)\\n    if isinstance(df, __pandas.core.series.Series):\\n        return [[df.name, str(df.dtype)]]\\n    return list(map(lambda col: [col, str(df[col].dtype)], df.columns))\\n\\n\\ndef dtypes_str(frame):\\n    return str(eval(frame).dtypes)\\n\\ndef dataframe_hash(var):\\n    # Return a hash including the column names and number of rows\\n    df = eval(var)\\n    if isinstance(df, __pandas.core.series.Series):\\n        return hashlib.sha256(f\"{var}-{df.name},{len(df)}\".encode(\\'utf-8\\')).hexdigest()\\n    return hashlib.sha256(f\"{var}-{\\',\\'.join(df.columns)},{len(df)}\".encode(\\'utf-8\\')).hexdigest()\\n\\ndef get_dataframes():\\n    if __pandas is None:\\n        return []\\n    user = getpass.getuser()\\n    values = get_ipython().run_line_magic(\\'who_ls\\', \\'\\')\\n    dataframes = [\\n        {\\n            \"name\": var,\\n            \"type\": type(eval(var)).__name__,\\n            \"hash\": dataframe_hash(var),\\n            \"cols\": dataframe_columns(var),\\n            \"dtypesStr\": dtypes_str(var),\\n        }\\n        for var in values if is_data_frame(var)\\n    ]\\n    result = {\"dataframes\": dataframes, \"user\": user}\\n    return json.dumps(result, ensure_ascii=False)\\n\\n\\nget_dataframes()',\n",
       "  'locals()'],\n",
       " '_oh': {2: '{\"dataframes\": [], \"user\": \"toufi\"}'},\n",
       " '_dh': [WindowsPath('C:/Users/toufi/Python_PDF')],\n",
       " 'In': ['',\n",
       "  'is True ?',\n",
       "  'import json\\nimport getpass\\nimport hashlib\\n\\ndef import_pandas_safely():\\n    try:\\n        return __import__(\\'pandas\\')\\n    except ImportError:\\n        return False\\n\\n\\n__pandas = import_pandas_safely()\\n\\n\\ndef is_data_frame(v: str):\\n    obj = eval(v)\\n    if  isinstance(obj, __pandas.core.frame.DataFrame) or isinstance(obj, __pandas.core.series.Series):\\n        return True\\n\\n\\ndef dataframe_columns(var):\\n    df = eval(var)\\n    if isinstance(df, __pandas.core.series.Series):\\n        return [[df.name, str(df.dtype)]]\\n    return list(map(lambda col: [col, str(df[col].dtype)], df.columns))\\n\\n\\ndef dtypes_str(frame):\\n    return str(eval(frame).dtypes)\\n\\ndef dataframe_hash(var):\\n    # Return a hash including the column names and number of rows\\n    df = eval(var)\\n    if isinstance(df, __pandas.core.series.Series):\\n        return hashlib.sha256(f\"{var}-{df.name},{len(df)}\".encode(\\'utf-8\\')).hexdigest()\\n    return hashlib.sha256(f\"{var}-{\\',\\'.join(df.columns)},{len(df)}\".encode(\\'utf-8\\')).hexdigest()\\n\\ndef get_dataframes():\\n    if __pandas is None:\\n        return []\\n    user = getpass.getuser()\\n    values = get_ipython().run_line_magic(\\'who_ls\\', \\'\\')\\n    dataframes = [\\n        {\\n            \"name\": var,\\n            \"type\": type(eval(var)).__name__,\\n            \"hash\": dataframe_hash(var),\\n            \"cols\": dataframe_columns(var),\\n            \"dtypesStr\": dtypes_str(var),\\n        }\\n        for var in values if is_data_frame(var)\\n    ]\\n    result = {\"dataframes\": dataframes, \"user\": user}\\n    return json.dumps(result, ensure_ascii=False)\\n\\n\\nget_dataframes()',\n",
       "  'locals()'],\n",
       " 'Out': {2: '{\"dataframes\": [], \"user\": \"toufi\"}'},\n",
       " 'get_ipython': <bound method InteractiveShell.get_ipython of <ipykernel.zmqshell.ZMQInteractiveShell object at 0x00000239C1206780>>,\n",
       " 'exit': <IPython.core.autocall.ZMQExitAutocall at 0x239c3224b00>,\n",
       " 'quit': <IPython.core.autocall.ZMQExitAutocall at 0x239c3224b00>,\n",
       " 'open': <function _io.open(file, mode='r', buffering=-1, encoding=None, errors=None, newline=None, closefd=True, opener=None)>,\n",
       " '_': '{\"dataframes\": [], \"user\": \"toufi\"}',\n",
       " '__': '',\n",
       " '___': '',\n",
       " '__session__': 'C:\\\\Users\\\\toufi\\\\Python_PDF\\\\Built_in_functions.ipynb',\n",
       " '_i': '\\nimport json\\nimport getpass\\nimport hashlib\\n\\ndef import_pandas_safely():\\n    try:\\n        return __import__(\\'pandas\\')\\n    except ImportError:\\n        return False\\n\\n\\n__pandas = import_pandas_safely()\\n\\n\\ndef is_data_frame(v: str):\\n    obj = eval(v)\\n    if  isinstance(obj, __pandas.core.frame.DataFrame) or isinstance(obj, __pandas.core.series.Series):\\n        return True\\n\\n\\ndef dataframe_columns(var):\\n    df = eval(var)\\n    if isinstance(df, __pandas.core.series.Series):\\n        return [[df.name, str(df.dtype)]]\\n    return list(map(lambda col: [col, str(df[col].dtype)], df.columns))\\n\\n\\ndef dtypes_str(frame):\\n    return str(eval(frame).dtypes)\\n\\ndef dataframe_hash(var):\\n    # Return a hash including the column names and number of rows\\n    df = eval(var)\\n    if isinstance(df, __pandas.core.series.Series):\\n        return hashlib.sha256(f\"{var}-{df.name},{len(df)}\".encode(\\'utf-8\\')).hexdigest()\\n    return hashlib.sha256(f\"{var}-{\\',\\'.join(df.columns)},{len(df)}\".encode(\\'utf-8\\')).hexdigest()\\n\\ndef get_dataframes():\\n    if __pandas is None:\\n        return []\\n    user = getpass.getuser()\\n    values = %who_ls\\n    dataframes = [\\n        {\\n            \"name\": var,\\n            \"type\": type(eval(var)).__name__,\\n            \"hash\": dataframe_hash(var),\\n            \"cols\": dataframe_columns(var),\\n            \"dtypesStr\": dtypes_str(var),\\n        }\\n        for var in values if is_data_frame(var)\\n    ]\\n    result = {\"dataframes\": dataframes, \"user\": user}\\n    return json.dumps(result, ensure_ascii=False)\\n\\n\\nget_dataframes()',\n",
       " '_ii': 'is True ?',\n",
       " '_iii': '',\n",
       " '_i1': 'is True ?',\n",
       " '_i2': '\\nimport json\\nimport getpass\\nimport hashlib\\n\\ndef import_pandas_safely():\\n    try:\\n        return __import__(\\'pandas\\')\\n    except ImportError:\\n        return False\\n\\n\\n__pandas = import_pandas_safely()\\n\\n\\ndef is_data_frame(v: str):\\n    obj = eval(v)\\n    if  isinstance(obj, __pandas.core.frame.DataFrame) or isinstance(obj, __pandas.core.series.Series):\\n        return True\\n\\n\\ndef dataframe_columns(var):\\n    df = eval(var)\\n    if isinstance(df, __pandas.core.series.Series):\\n        return [[df.name, str(df.dtype)]]\\n    return list(map(lambda col: [col, str(df[col].dtype)], df.columns))\\n\\n\\ndef dtypes_str(frame):\\n    return str(eval(frame).dtypes)\\n\\ndef dataframe_hash(var):\\n    # Return a hash including the column names and number of rows\\n    df = eval(var)\\n    if isinstance(df, __pandas.core.series.Series):\\n        return hashlib.sha256(f\"{var}-{df.name},{len(df)}\".encode(\\'utf-8\\')).hexdigest()\\n    return hashlib.sha256(f\"{var}-{\\',\\'.join(df.columns)},{len(df)}\".encode(\\'utf-8\\')).hexdigest()\\n\\ndef get_dataframes():\\n    if __pandas is None:\\n        return []\\n    user = getpass.getuser()\\n    values = %who_ls\\n    dataframes = [\\n        {\\n            \"name\": var,\\n            \"type\": type(eval(var)).__name__,\\n            \"hash\": dataframe_hash(var),\\n            \"cols\": dataframe_columns(var),\\n            \"dtypesStr\": dtypes_str(var),\\n        }\\n        for var in values if is_data_frame(var)\\n    ]\\n    result = {\"dataframes\": dataframes, \"user\": user}\\n    return json.dumps(result, ensure_ascii=False)\\n\\n\\nget_dataframes()',\n",
       " 'json': <module 'json' from 'C:\\\\Users\\\\toufi\\\\anaconda3\\\\Lib\\\\json\\\\__init__.py'>,\n",
       " 'getpass': <module 'getpass' from 'C:\\\\Users\\\\toufi\\\\anaconda3\\\\Lib\\\\getpass.py'>,\n",
       " 'hashlib': <module 'hashlib' from 'C:\\\\Users\\\\toufi\\\\anaconda3\\\\Lib\\\\hashlib.py'>,\n",
       " 'import_pandas_safely': <function __main__.import_pandas_safely()>,\n",
       " '__pandas': <module 'pandas' from 'C:\\\\Users\\\\toufi\\\\anaconda3\\\\Lib\\\\site-packages\\\\pandas\\\\__init__.py'>,\n",
       " 'is_data_frame': <function __main__.is_data_frame(v: str)>,\n",
       " 'dataframe_columns': <function __main__.dataframe_columns(var)>,\n",
       " 'dtypes_str': <function __main__.dtypes_str(frame)>,\n",
       " 'dataframe_hash': <function __main__.dataframe_hash(var)>,\n",
       " 'get_dataframes': <function __main__.get_dataframes()>,\n",
       " '_2': '{\"dataframes\": [], \"user\": \"toufi\"}',\n",
       " '_i3': 'locals()'}"
      ]
     },
     "execution_count": 3,
     "metadata": {},
     "output_type": "execute_result"
    }
   ],
   "source": [
    "locals()"
   ]
  },
  {
   "cell_type": "code",
   "execution_count": 5,
   "id": "dc3819b8-da2f-4b75-98e7-f5ed7892b459",
   "metadata": {},
   "outputs": [
    {
     "name": "stdout",
     "output_type": "stream",
     "text": [
      "True\n",
      "True\n"
     ]
    }
   ],
   "source": [
    "def function():\n",
    "    variable= True\n",
    "    print(variable)\n",
    "    locals()[variable]=False\n",
    "    print(variable)\n",
    "\n",
    "function()"
   ]
  },
  {
   "cell_type": "code",
   "execution_count": 9,
   "id": "a25bfda3-b4a3-4713-a53d-2df7a46fd983",
   "metadata": {},
   "outputs": [
    {
     "name": "stdout",
     "output_type": "stream",
     "text": [
      "If there is no locals(), it returns an empty dictonary {}\n",
      "If there is locals(), it returns a dictonary {'program': 'Python'}\n"
     ]
    }
   ],
   "source": [
    "def dict_1():\n",
    "    return locals()\n",
    "def dict_2():\n",
    "    program='Python'\n",
    "    return locals()\n",
    "\n",
    "print('If there is no locals(), it returns an empty dictonary',dict_1())\n",
    "print('If there is locals(), it returns a dictonary',dict_2())"
   ]
  },
  {
   "cell_type": "code",
   "execution_count": 19,
   "id": "f10c12bd-4daf-4297-bcdb-ddc6927f0507",
   "metadata": {},
   "outputs": [
    {
     "name": "stdout",
     "output_type": "stream",
     "text": [
      "32\n",
      "32.000000\n",
      "100000\n",
      "20\n",
      "40\n"
     ]
    }
   ],
   "source": [
    "# 'format' function use in python\n",
    "\n",
    "num =32\n",
    "print(format(num,'d'))\n",
    "print(format(num,'f'))\n",
    "print(format(num, 'b'))\n",
    "print(format(num, 'x'))\n",
    "print(format(num, 'o'))"
   ]
  },
  {
   "cell_type": "code",
   "execution_count": 21,
   "id": "2f7ae557-bb36-4144-acd8-aa512669c178",
   "metadata": {},
   "outputs": [
    {
     "name": "stdout",
     "output_type": "stream",
     "text": [
      "0xf\n"
     ]
    }
   ],
   "source": [
    "print(hex(15))"
   ]
  },
  {
   "cell_type": "code",
   "execution_count": 25,
   "id": "a2b2a80e-608e-4102-8a0c-ef52448775f1",
   "metadata": {},
   "outputs": [
    {
     "name": "stdout",
     "output_type": "stream",
     "text": [
      "0x6c1\n"
     ]
    }
   ],
   "source": [
    "print(hex(1729))\n"
   ]
  },
  {
   "cell_type": "code",
   "execution_count": 29,
   "id": "d600b1a9-667c-48d0-91da-60f1c09e2a2d",
   "metadata": {},
   "outputs": [
    {
     "name": "stdin",
     "output_type": "stream",
     "text": [
      "Enter a number : 32\n"
     ]
    },
    {
     "name": "stdout",
     "output_type": "stream",
     "text": [
      "The oct value of 32 is 0o40\n"
     ]
    }
   ],
   "source": [
    "num=int(input('Enter a number :'))\n",
    "print(f'The oct value of {num} is {oct(num)}')"
   ]
  },
  {
   "cell_type": "code",
   "execution_count": 31,
   "id": "7a793956-0cdc-47c6-882e-1be45c9815ba",
   "metadata": {},
   "outputs": [
    {
     "name": "stdout",
     "output_type": "stream",
     "text": [
      "['R', 'i', 'd', 'o', 'y']\n"
     ]
    }
   ],
   "source": [
    "text= 'Ridoy'\n",
    "print(list(text))"
   ]
  },
  {
   "cell_type": "code",
   "execution_count": 33,
   "id": "c463dce9-d0f4-4bc5-b495-00900eaa9f42",
   "metadata": {},
   "outputs": [
    {
     "name": "stdout",
     "output_type": "stream",
     "text": [
      "<memory at 0x00000239C307D9C0>\n",
      "88\n",
      "89\n",
      "90\n",
      "b'XY'\n",
      "[88, 89, 90]\n",
      "{88, 89, 90}\n",
      "(88, 89, 90)\n",
      "[88, 65, 90]\n",
      "bytearray(b'XAZ')\n"
     ]
    }
   ],
   "source": [
    "ba = bytearray('XYZ', 'utf-8')\n",
    "mv = memoryview(ba)\n",
    "print(mv)\n",
    "print(mv[0])\n",
    "print(mv[1])\n",
    "print(mv[2])\n",
    "print(bytes(mv[0:2]))\n",
    "print(list(mv[:]))\n",
    "print(set(mv[:]))\n",
    "print(tuple(mv[:]))\n",
    "mv[1] = 65 # 'Y' was replaced with 'A'\n",
    "print(list(mv[:])) \n",
    "print(ba)"
   ]
  },
  {
   "cell_type": "code",
   "execution_count": 39,
   "id": "35905c58-20b4-4521-ad52-ef5ccb370868",
   "metadata": {
    "scrolled": true
   },
   "outputs": [
    {
     "name": "stdout",
     "output_type": "stream",
     "text": [
      "0.577\n",
      "1.618\n",
      "2.718\n",
      "3.14\n",
      "6\n",
      "28\n",
      "37\n",
      "1729\n"
     ]
    }
   ],
   "source": [
    "special_nums = [0.577, 1.618, 2.718, 3.14, 6, 28, 37, 1729]\n",
    "number = iter(special_nums) # Create an iteration\n",
    "item = next(number) # First item\n",
    "print(item)\n",
    "item = next(number) # Second item\n",
    "print(item)\n",
    "item = next(number) # Third item, etc\n",
    "print(item)\n",
    "item = next(number)\n",
    "print(item)\n",
    "item = next(number)\n",
    "print(item)\n",
    "item = next(number)\n",
    "print(item)\n",
    "item = next(number)\n",
    "print(item)\n",
    "item = next(number)\n",
    "print(item)\n",
    "# item = next(number)\n",
    "# print(item)"
   ]
  },
  {
   "cell_type": "code",
   "execution_count": 41,
   "id": "c6005b75-4ae1-4012-88db-ef16e5935410",
   "metadata": {},
   "outputs": [
    {
     "ename": "FileNotFoundError",
     "evalue": "[Errno 2] No such file or directory: 'authors.txt'",
     "output_type": "error",
     "traceback": [
      "\u001b[1;31m---------------------------------------------------------------------------\u001b[0m",
      "\u001b[1;31mFileNotFoundError\u001b[0m                         Traceback (most recent call last)",
      "Cell \u001b[1;32mIn[41], line 2\u001b[0m\n\u001b[0;32m      1\u001b[0m path \u001b[38;5;241m=\u001b[39m \u001b[38;5;124m\"\u001b[39m\u001b[38;5;124mauthors.txt\u001b[39m\u001b[38;5;124m\"\u001b[39m\n\u001b[1;32m----> 2\u001b[0m \u001b[38;5;28;01mwith\u001b[39;00m \u001b[38;5;28mopen\u001b[39m(path, \u001b[38;5;124m\"\u001b[39m\u001b[38;5;124mr\u001b[39m\u001b[38;5;124m\"\u001b[39m) \u001b[38;5;28;01mas\u001b[39;00m file:\n\u001b[0;32m      3\u001b[0m  FileContent \u001b[38;5;241m=\u001b[39m file\u001b[38;5;241m.\u001b[39mread()\n\u001b[0;32m      4\u001b[0m  \u001b[38;5;28mprint\u001b[39m(FileContent)\n",
      "File \u001b[1;32m~\\anaconda3\\Lib\\site-packages\\IPython\\core\\interactiveshell.py:324\u001b[0m, in \u001b[0;36m_modified_open\u001b[1;34m(file, *args, **kwargs)\u001b[0m\n\u001b[0;32m    317\u001b[0m \u001b[38;5;28;01mif\u001b[39;00m file \u001b[38;5;129;01min\u001b[39;00m {\u001b[38;5;241m0\u001b[39m, \u001b[38;5;241m1\u001b[39m, \u001b[38;5;241m2\u001b[39m}:\n\u001b[0;32m    318\u001b[0m     \u001b[38;5;28;01mraise\u001b[39;00m \u001b[38;5;167;01mValueError\u001b[39;00m(\n\u001b[0;32m    319\u001b[0m         \u001b[38;5;124mf\u001b[39m\u001b[38;5;124m\"\u001b[39m\u001b[38;5;124mIPython won\u001b[39m\u001b[38;5;124m'\u001b[39m\u001b[38;5;124mt let you open fd=\u001b[39m\u001b[38;5;132;01m{\u001b[39;00mfile\u001b[38;5;132;01m}\u001b[39;00m\u001b[38;5;124m by default \u001b[39m\u001b[38;5;124m\"\u001b[39m\n\u001b[0;32m    320\u001b[0m         \u001b[38;5;124m\"\u001b[39m\u001b[38;5;124mas it is likely to crash IPython. If you know what you are doing, \u001b[39m\u001b[38;5;124m\"\u001b[39m\n\u001b[0;32m    321\u001b[0m         \u001b[38;5;124m\"\u001b[39m\u001b[38;5;124myou can use builtins\u001b[39m\u001b[38;5;124m'\u001b[39m\u001b[38;5;124m open.\u001b[39m\u001b[38;5;124m\"\u001b[39m\n\u001b[0;32m    322\u001b[0m     )\n\u001b[1;32m--> 324\u001b[0m \u001b[38;5;28;01mreturn\u001b[39;00m io_open(file, \u001b[38;5;241m*\u001b[39margs, \u001b[38;5;241m*\u001b[39m\u001b[38;5;241m*\u001b[39mkwargs)\n",
      "\u001b[1;31mFileNotFoundError\u001b[0m: [Errno 2] No such file or directory: 'authors.txt'"
     ]
    }
   ],
   "source": [
    "path = \"authors.txt\"\n",
    "with open(path, \"r\") as file:\n",
    " FileContent = file.read()\n",
    " print(FileContent)\n"
   ]
  },
  {
   "cell_type": "code",
   "execution_count": null,
   "id": "4a0f74b8-5ded-4c05-9d3c-b7a1c028b80d",
   "metadata": {},
   "outputs": [],
   "source": []
  },
  {
   "cell_type": "code",
   "execution_count": 43,
   "id": "2e52253f-cdf3-46e7-a847-e45fc57705f7",
   "metadata": {},
   "outputs": [
    {
     "name": "stdout",
     "output_type": "stream",
     "text": [
      "(1+0j)\n",
      "(2+2j)\n",
      "(3.14+1.618j)\n"
     ]
    }
   ],
   "source": [
    "print(complex(1))\n",
    "print(complex(2, 2))\n",
    "print(complex(3.14, 1.618))"
   ]
  },
  {
   "cell_type": "code",
   "execution_count": 45,
   "id": "ce759b68-8c13-43c7-92db-a0c73a810572",
   "metadata": {},
   "outputs": [
    {
     "name": "stdout",
     "output_type": "stream",
     "text": [
      "(5.0, 0.25500000000000034)\n",
      "(3, 0)\n",
      "(2, 2)\n"
     ]
    },
    {
     "ename": "TypeError",
     "evalue": "unsupported operand type(s) for divmod(): 'str' and 'str'",
     "output_type": "error",
     "traceback": [
      "\u001b[1;31m---------------------------------------------------------------------------\u001b[0m",
      "\u001b[1;31mTypeError\u001b[0m                                 Traceback (most recent call last)",
      "Cell \u001b[1;32mIn[45], line 4\u001b[0m\n\u001b[0;32m      2\u001b[0m \u001b[38;5;28mprint\u001b[39m(\u001b[38;5;28mdivmod\u001b[39m(\u001b[38;5;241m9\u001b[39m, \u001b[38;5;241m3\u001b[39m))\n\u001b[0;32m      3\u001b[0m \u001b[38;5;28mprint\u001b[39m(\u001b[38;5;28mdivmod\u001b[39m(\u001b[38;5;241m12\u001b[39m, \u001b[38;5;241m5\u001b[39m))\n\u001b[1;32m----> 4\u001b[0m \u001b[38;5;28mprint\u001b[39m(\u001b[38;5;28mdivmod\u001b[39m(\u001b[38;5;124m'\u001b[39m\u001b[38;5;124mHello\u001b[39m\u001b[38;5;124m'\u001b[39m, \u001b[38;5;124m'\u001b[39m\u001b[38;5;124mPython!\u001b[39m\u001b[38;5;124m'\u001b[39m))\n",
      "\u001b[1;31mTypeError\u001b[0m: unsupported operand type(s) for divmod(): 'str' and 'str'"
     ]
    }
   ],
   "source": [
    "print(divmod(3.14, 0.577))\n",
    "print(divmod(9, 3))\n",
    "print(divmod(12, 5))\n",
    "print(divmod('Hello', 'Python!')) "
   ]
  },
  {
   "cell_type": "code",
   "execution_count": 57,
   "id": "fd6edb32-488e-4726-aba2-26f034694665",
   "metadata": {},
   "outputs": [
    {
     "name": "stdout",
     "output_type": "stream",
     "text": [
      "0.577\n",
      "2.718\n",
      "3.14\n",
      "1.618\n",
      "These numbers are special.\n",
      "172\n"
     ]
    }
   ],
   "source": [
    "class SpecialNumbers:\n",
    " euler_constant = 0.0\n",
    " euler_number = 0.0\n",
    " pi = 0.0\n",
    " golden_ratio = 0\n",
    " msg = ''\n",
    " \n",
    " def __init__(self, euler_constant, euler_number, pi, golden_ratio, msg):\n",
    "     self.euler_constant = euler_constant\n",
    "     self.euler_number = euler_number\n",
    "     self.pi = pi\n",
    "     self.golden_ratio = golden_ratio\n",
    "     self.msg = msg\n",
    "special_numbers = SpecialNumbers(0.577, 2.718, 3.14, 1.618, 'These numbers are special.')\n",
    "print(special_numbers.euler_constant)\n",
    "print(special_numbers.euler_number)\n",
    "print(special_numbers.pi)\n",
    "print(special_numbers.golden_ratio)\n",
    "print(special_numbers.msg)\n",
    "setattr(special_numbers, 'Ramanujan_Hardy_number', 172)\n",
    "print(special_numbers.Ramanujan_Hardy_number)\n"
   ]
  },
  {
   "cell_type": "code",
   "execution_count": 59,
   "id": "f92d4a0f-5ae0-4b49-99dd-0f78e4dd0d95",
   "metadata": {},
   "outputs": [
    {
     "name": "stdout",
     "output_type": "stream",
     "text": [
      "slice(None, 2.718, None)\n",
      "slice(0.577, 1.618, 3.14)\n",
      "Hello\n",
      "[0.577, 1.618, 2.718, 3.14]\n",
      "[1729, 28, 3.14]\n",
      "[0.577, 1.618, 2.718, 3.14]\n",
      "[6, 28, 37]\n"
     ]
    }
   ],
   "source": [
    "print(slice(2.718))\n",
    "print(slice(0.577, 1.618, 3.14))\n",
    "msg = 'Hello, Python!'\n",
    "sliced_msg = slice(5)\n",
    "print(msg[sliced_msg])\n",
    "special_nums = [0.577, 1.618, 2.718, 3.14, 6, 28, 37, 1729]\n",
    "sliced_list = slice(4)\n",
    "print(special_nums[sliced_list])\n",
    "sliced_list = slice(-1, -6, -2)\n",
    "print(special_nums[sliced_list])\n",
    "print(special_nums[0:4]) # Slicing with indexing\n",
    "print(special_nums[-4:-1])"
   ]
  },
  {
   "cell_type": "code",
   "execution_count": 61,
   "id": "7accc006-3508-40bd-92af-372e183d0be2",
   "metadata": {},
   "outputs": [
    {
     "name": "stdout",
     "output_type": "stream",
     "text": [
      "[0.577, 1.618, 2.718, 3.14, 6, 28, 37, 1729]\n",
      "[' ', '!', ',', 'H', 'P', 'e', 'h', 'l', 'l', 'n', 'o', 'o', 't', 'y']\n"
     ]
    }
   ],
   "source": [
    "special_nums = [2.718, 1729, 0.577, 1.618, 28, 3.14, 6, 37]\n",
    "print(sorted(special_nums))\n",
    "txt = 'Hello, Python!'\n",
    "print(sorted(txt))"
   ]
  },
  {
   "cell_type": "code",
   "execution_count": 65,
   "id": "d5bfe4da-7797-4deb-90eb-83a7534367cf",
   "metadata": {},
   "outputs": [
    {
     "name": "stdout",
     "output_type": "stream",
     "text": [
      "57\n",
      "88\n",
      "87\n",
      "94\n",
      "97\n"
     ]
    }
   ],
   "source": [
    "print(ord('9'))\n",
    "print(ord('X'))\n",
    "print(ord('W'))\n",
    "print(ord('^'))\n",
    "print(ord('a'))"
   ]
  },
  {
   "cell_type": "code",
   "execution_count": 67,
   "id": "8bf91656-289c-462d-acb0-da82cc94ea10",
   "metadata": {},
   "outputs": [
    {
     "name": "stdout",
     "output_type": "stream",
     "text": [
      "23.09634618919156\n",
      "0.0016\n",
      "4096\n",
      "36\n",
      "0.027777777777777776\n"
     ]
    }
   ],
   "source": [
    "print(pow(2.718, 3.14))\n",
    "print(pow(-25, -2))\n",
    "print(pow(16, 3))\n",
    "print(pow(-6, 2))\n",
    "print(pow(6, -2))\n"
   ]
  },
  {
   "cell_type": "code",
   "execution_count": 69,
   "id": "6fab01f9-e06e-4376-908c-17e9e7db3334",
   "metadata": {},
   "outputs": [
    {
     "name": "stdout",
     "output_type": "stream",
     "text": [
      "['y', 'o', 'd', 'i', 'R', 'n', 'a', 'm', 'h', 'a', 'R', 'r', 'U', 'e', 'k', 'i', 'f', 'u', 'o', 'T']\n",
      "[37, 6, 3.14, 28, 1.618, 0.577, 1729, 2.718]\n",
      "[27, 26, 25, 24, 23, 22, 21, 20, 19, 18, 17, 16, 15, 14, 13, 12, 11, 10, 9, 8, 7, 6]\n",
      "[37, 6, 3.14, 28, 1.618, 0.577, 1729, 2.718]\n"
     ]
    }
   ],
   "source": [
    "txt = 'ToufikeUrRahmanRidoy'\n",
    "print(list(reversed(txt)))\n",
    "special_nums = [2.718, 1729, 0.577, 1.618, 28, 3.14, 6, 37]\n",
    "print(list(reversed(special_nums)))\n",
    "nums = range(6, 28)\n",
    "print(list(reversed(nums)))\n",
    "special_nums_tuple = (2.718, 1729, 0.577, 1.618, 28, 3.14, 6, 37)\n",
    "print(list(reversed(special_nums_tuple)))"
   ]
  },
  {
   "cell_type": "code",
   "execution_count": 73,
   "id": "0ae3551d-86b4-4280-83b8-37007764c7e7",
   "metadata": {},
   "outputs": [
    {
     "name": "stdout",
     "output_type": "stream",
     "text": [
      "3\n",
      "3\n",
      "1\n",
      "2\n",
      "1729\n",
      "-2\n"
     ]
    }
   ],
   "source": [
    "print(round(3.14))\n",
    "print(round(2.718))\n",
    "print(round(0.577))\n",
    "print(round(1.618))\n",
    "print(round(1729))\n",
    "print(round(-1.67))"
   ]
  },
  {
   "cell_type": "code",
   "execution_count": 83,
   "id": "88522b5f-a261-4296-b539-f6f9cbc07802",
   "metadata": {},
   "outputs": [
    {
     "name": "stdout",
     "output_type": "stream",
     "text": [
      "(2.718, 1729, 0.577, 1.618, 28, 3.14, 6, 37)\n",
      "<class 'list'>\n",
      "\n",
      "('H', 'e', 'l', 'l', 'o', ',', ' ', 'P', 'y', 't', 'h', 'o', 'n', '!')\n",
      "<class 'str'>\n",
      "\n",
      "('A', 'B', 'C')\n",
      "<class 'dict'>\n",
      "\n",
      "(0.577, 1729, 2.718, 3.14, 1.618, 37, 6, 28)\n",
      "<class 'set'>\n",
      "\n",
      "<class '__main__.SpecialNumbers'>\n"
     ]
    }
   ],
   "source": [
    "special_nums = [2.718, 1729, 0.577, 1.618, 28, 3.14, 6, 37]\n",
    "special_nums_tuple = tuple(special_nums)\n",
    "print(special_nums_tuple)\n",
    "print(type(special_nums))\n",
    "print()\n",
    "txt = 'Hello, Python!'\n",
    "txt_tuple = tuple(txt)\n",
    "print(txt_tuple)\n",
    "print(type(txt))\n",
    "print()\n",
    "dictionary = {'A': 0.577, 'B': 2.718, 'C': 3.14}\n",
    "dictionary_tuple = tuple(dictionary)\n",
    "print(dictionary_tuple)\n",
    "print(type(dictionary))\n",
    "print()\n",
    "special_nums_set = {2.718, 1729, 0.577, 1.618, 28, 3.14, 6, 37}\n",
    "special_nums_tuple = tuple(special_nums_set)\n",
    "print(special_nums_tuple)\n",
    "print(type(special_nums_set))\n",
    "print()\n",
    "class SpecialNumbers:\n",
    " euler_constant = 0.577\n",
    " euler_number = 2.718\n",
    " pi = 3.14\n",
    " golden_ratio = 1.618\n",
    " msg = 'These numbers are very special'\n",
    " \n",
    " def __init__(self, euler_constant, euler_number, pi, golden_ratio, msg):\n",
    "     self.euler_constant = euler_constant\n",
    "     self.euler_number = euler_number\n",
    "     self.pi = pi\n",
    "     self.golden_ratio = golden_ratio\n",
    "     self.msg = msg\n",
    "special_numbers = SpecialNumbers(0.577, 2.718, 3.14, 1.618, 'These numbers are very special.')\n",
    "print(type(special_numbers))"
   ]
  },
  {
   "cell_type": "markdown",
   "id": "1dc1c293-0218-4078-ad21-215dde0ba635",
   "metadata": {},
   "source": [
    "class SpecialNumbers:\n",
    " euler_constant = 0.577\n",
    " euler_number = 2.718\n",
    " pi = 3.14\n",
    " golden_ratio = 1.618\n",
    " msg = 'These numbers are very special'\n",
    " \n",
    " def __init__(self, euler_constant, euler_number, pi, golden_ratio, msg):\n",
    " self.euler_constant = euler_constant\n",
    " self.euler_number = euler_number\n",
    " self.pi = pi\n",
    " self.golden_ratio = golden_ratio\n",
    " self.msg = msg\n",
    "special_numbers = SpecialNumbers(0.577, 2.718, 3.14, 1.618, 'These numbers are very special.')\n",
    "print(vars(special_numbers))"
   ]
  },
  {
   "cell_type": "markdown",
   "id": "41d6db83-563c-4c26-8b72-21ddcde4d49c",
   "metadata": {},
   "source": [
    "class SpecialNumbers:\n",
    " euler_constant = 0.577\n",
    " euler_number = 2.718\n",
    " pi = 3.14\n",
    " golden_ratio = 1.618\n",
    " msg = 'These numbers are very special'\n",
    " \n",
    " def __init__(self, euler_constant, euler_number, pi, golden_ratio, msg):\n",
    "     self.euler_constant = euler_constant\n",
    "     self.euler_number = euler_number\n",
    "     self.pi = pi\n",
    "     self.golden_ratio = golden_ratio\n",
    "     self.msg = msg\n",
    "special_numbers = SpecialNumbers(0.577, 2.718, 3.14, 1.618, 'These numbers are very special.')\n",
    "print(vars(special_numbers))"
   ]
  }
 ],
 "metadata": {
  "kernelspec": {
   "display_name": "Python [conda env:base] *",
   "language": "python",
   "name": "conda-base-py"
  },
  "language_info": {
   "codemirror_mode": {
    "name": "ipython",
    "version": 3
   },
   "file_extension": ".py",
   "mimetype": "text/x-python",
   "name": "python",
   "nbconvert_exporter": "python",
   "pygments_lexer": "ipython3",
   "version": "3.12.7"
  }
 },
 "nbformat": 4,
 "nbformat_minor": 5
}
